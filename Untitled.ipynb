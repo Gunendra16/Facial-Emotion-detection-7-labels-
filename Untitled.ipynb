{
 "cells": [
  {
   "cell_type": "code",
   "execution_count": 1,
   "id": "f1848aaf-e4db-4631-93b0-afe6ffdb9854",
   "metadata": {},
   "outputs": [],
   "source": [
    "from keras.utils import to_categorical\n",
    "from keras_preprocessing.image import load_img\n",
    "from keras.models import Sequential\n",
    "from keras.layers import Dense, Conv2D, Dropout, Flatten, MaxPooling2D\n",
    "import os\n",
    "import pandas as pd\n",
    "import numpy as np"
   ]
  },
  {
   "cell_type": "code",
   "execution_count": 2,
   "id": "47b4ee80-b019-4897-a3e5-29bd015deb7a",
   "metadata": {},
   "outputs": [],
   "source": [
    "TRAIN_DIR = 'images/train'\n",
    "TEST_DIR = 'images/test'"
   ]
  },
  {
   "cell_type": "code",
   "execution_count": 3,
   "id": "c43a8784-db12-493c-9d55-a12d22ff06a4",
   "metadata": {
    "jupyter": {
     "source_hidden": true
    }
   },
   "outputs": [],
   "source": [
    "def createdataframe(dir):\n",
    "    image_paths = []\n",
    "    labels = []\n",
    "    for label in os.listdir(dir):\n",
    "        for imagename in os.listdir(os.path.join(dir,label)):\n",
    "            image_paths.append(os.path.join(dir,label,imagename))\n",
    "            labels.append(label)\n",
    "        print(label, \"completed\")\n",
    "    return image_paths,labels"
   ]
  },
  {
   "cell_type": "code",
   "execution_count": 4,
   "id": "43e52c31-dce2-4b0f-a5b8-039ff017d4ad",
   "metadata": {},
   "outputs": [
    {
     "name": "stdout",
     "output_type": "stream",
     "text": [
      "angry completed\n",
      "disgust completed\n",
      "fear completed\n",
      "happy completed\n",
      "neutral completed\n",
      "sad completed\n",
      "surprise completed\n"
     ]
    }
   ],
   "source": [
    "train = pd.DataFrame()\n",
    "train['image'], train['label'] = createdataframe(TRAIN_DIR)"
   ]
  },
  {
   "cell_type": "code",
   "execution_count": 5,
   "id": "82a42fb5-b5c2-4d22-b331-b7ec48125ad7",
   "metadata": {},
   "outputs": [
    {
     "name": "stdout",
     "output_type": "stream",
     "text": [
      "                                image     label\n",
      "0            images/train\\angry\\0.jpg     angry\n",
      "1            images/train\\angry\\1.jpg     angry\n",
      "2           images/train\\angry\\10.jpg     angry\n",
      "3        images/train\\angry\\10002.jpg     angry\n",
      "4        images/train\\angry\\10016.jpg     angry\n",
      "...                               ...       ...\n",
      "28816  images/train\\surprise\\9969.jpg  surprise\n",
      "28817  images/train\\surprise\\9985.jpg  surprise\n",
      "28818  images/train\\surprise\\9990.jpg  surprise\n",
      "28819  images/train\\surprise\\9992.jpg  surprise\n",
      "28820  images/train\\surprise\\9996.jpg  surprise\n",
      "\n",
      "[28821 rows x 2 columns]\n"
     ]
    }
   ],
   "source": [
    "print(train)"
   ]
  },
  {
   "cell_type": "code",
   "execution_count": 6,
   "id": "89418cdf-ea6c-4b9f-8265-8f414922333f",
   "metadata": {},
   "outputs": [
    {
     "name": "stdout",
     "output_type": "stream",
     "text": [
      "angry completed\n",
      "disgust completed\n",
      "fear completed\n",
      "happy completed\n",
      "neutral completed\n",
      "sad completed\n",
      "surprise completed\n"
     ]
    }
   ],
   "source": [
    "test = pd.DataFrame()\n",
    "test['image'], test['label'] = createdataframe(TEST_DIR)"
   ]
  },
  {
   "cell_type": "code",
   "execution_count": 7,
   "id": "74b83feb-a76e-4dc6-9810-8bffce7af49e",
   "metadata": {
    "scrolled": true
   },
   "outputs": [
    {
     "name": "stdout",
     "output_type": "stream",
     "text": [
      "                              image     label\n",
      "0       images/test\\angry\\10052.jpg     angry\n",
      "1       images/test\\angry\\10065.jpg     angry\n",
      "2       images/test\\angry\\10079.jpg     angry\n",
      "3       images/test\\angry\\10095.jpg     angry\n",
      "4       images/test\\angry\\10121.jpg     angry\n",
      "...                             ...       ...\n",
      "7061  images/test\\surprise\\9806.jpg  surprise\n",
      "7062  images/test\\surprise\\9830.jpg  surprise\n",
      "7063  images/test\\surprise\\9853.jpg  surprise\n",
      "7064  images/test\\surprise\\9878.jpg  surprise\n",
      "7065   images/test\\surprise\\993.jpg  surprise\n",
      "\n",
      "[7066 rows x 2 columns]\n",
      "0         images/test\\angry\\10052.jpg\n",
      "1         images/test\\angry\\10065.jpg\n",
      "2         images/test\\angry\\10079.jpg\n",
      "3         images/test\\angry\\10095.jpg\n",
      "4         images/test\\angry\\10121.jpg\n",
      "                    ...              \n",
      "7061    images/test\\surprise\\9806.jpg\n",
      "7062    images/test\\surprise\\9830.jpg\n",
      "7063    images/test\\surprise\\9853.jpg\n",
      "7064    images/test\\surprise\\9878.jpg\n",
      "7065     images/test\\surprise\\993.jpg\n",
      "Name: image, Length: 7066, dtype: object\n"
     ]
    }
   ],
   "source": [
    "print(test)\n",
    "print(test['image'])"
   ]
  },
  {
   "cell_type": "code",
   "execution_count": 8,
   "id": "a1485ee8-604b-4e3c-92d9-bc9653e8a71d",
   "metadata": {},
   "outputs": [],
   "source": [
    "from tqdm.notebook import tqdm"
   ]
  },
  {
   "cell_type": "code",
   "execution_count": 9,
   "id": "58456f57-6da4-4898-871d-c8d22d265db4",
   "metadata": {},
   "outputs": [],
   "source": [
    "def extract_features(images):\n",
    "    features = []\n",
    "    for image in tqdm(images):\n",
    "        img = load_img(image,grayscale =  True )\n",
    "        img = np.array(img)\n",
    "        features.append(img)\n",
    "    features = np.array(features)\n",
    "    features = features.reshape(len(features),48,48,1)\n",
    "    return features"
   ]
  },
  {
   "cell_type": "code",
   "execution_count": 10,
   "id": "6d2f2afa-f313-46fb-a238-4c502a5b1847",
   "metadata": {},
   "outputs": [
    {
     "data": {
      "application/vnd.jupyter.widget-view+json": {
       "model_id": "4c2675f677da40f1a5d6414a47eccdb9",
       "version_major": 2,
       "version_minor": 0
      },
      "text/plain": [
       "  0%|          | 0/28821 [00:00<?, ?it/s]"
      ]
     },
     "metadata": {},
     "output_type": "display_data"
    },
    {
     "name": "stderr",
     "output_type": "stream",
     "text": [
      "C:\\Users\\Gunendra\\anaconda3\\envs\\tf_env\\lib\\site-packages\\keras_preprocessing\\image\\utils.py:107: UserWarning: grayscale is deprecated. Please use color_mode = \"grayscale\"\n",
      "  warnings.warn('grayscale is deprecated. Please use '\n"
     ]
    }
   ],
   "source": [
    "train_features = extract_features(train['image']) "
   ]
  },
  {
   "cell_type": "code",
   "execution_count": 11,
   "id": "f2706732-875e-4b79-b5b7-585aee9bf22f",
   "metadata": {},
   "outputs": [
    {
     "data": {
      "application/vnd.jupyter.widget-view+json": {
       "model_id": "bf5b7b958d6e4f0aa947f7e91f8bd4cf",
       "version_major": 2,
       "version_minor": 0
      },
      "text/plain": [
       "  0%|          | 0/7066 [00:00<?, ?it/s]"
      ]
     },
     "metadata": {},
     "output_type": "display_data"
    }
   ],
   "source": [
    "test_features = extract_features(test['image'])"
   ]
  },
  {
   "cell_type": "code",
   "execution_count": 12,
   "id": "f49ece7a-a036-4bc5-8439-1eec5cc4eec0",
   "metadata": {},
   "outputs": [],
   "source": [
    "x_train  = train_features/255.0\n",
    "x_test = test_features/255.0"
   ]
  },
  {
   "cell_type": "code",
   "execution_count": 13,
   "id": "f8f9ee23-7f8a-47ab-9862-afc9ca2f9c47",
   "metadata": {},
   "outputs": [],
   "source": [
    "from sklearn.preprocessing import LabelEncoder"
   ]
  },
  {
   "cell_type": "code",
   "execution_count": 14,
   "id": "330a8937-f9df-449f-a96e-ef91de3a41dd",
   "metadata": {},
   "outputs": [
    {
     "data": {
      "text/html": [
       "<style>#sk-container-id-1 {\n",
       "  /* Definition of color scheme common for light and dark mode */\n",
       "  --sklearn-color-text: black;\n",
       "  --sklearn-color-line: gray;\n",
       "  /* Definition of color scheme for unfitted estimators */\n",
       "  --sklearn-color-unfitted-level-0: #fff5e6;\n",
       "  --sklearn-color-unfitted-level-1: #f6e4d2;\n",
       "  --sklearn-color-unfitted-level-2: #ffe0b3;\n",
       "  --sklearn-color-unfitted-level-3: chocolate;\n",
       "  /* Definition of color scheme for fitted estimators */\n",
       "  --sklearn-color-fitted-level-0: #f0f8ff;\n",
       "  --sklearn-color-fitted-level-1: #d4ebff;\n",
       "  --sklearn-color-fitted-level-2: #b3dbfd;\n",
       "  --sklearn-color-fitted-level-3: cornflowerblue;\n",
       "\n",
       "  /* Specific color for light theme */\n",
       "  --sklearn-color-text-on-default-background: var(--sg-text-color, var(--theme-code-foreground, var(--jp-content-font-color1, black)));\n",
       "  --sklearn-color-background: var(--sg-background-color, var(--theme-background, var(--jp-layout-color0, white)));\n",
       "  --sklearn-color-border-box: var(--sg-text-color, var(--theme-code-foreground, var(--jp-content-font-color1, black)));\n",
       "  --sklearn-color-icon: #696969;\n",
       "\n",
       "  @media (prefers-color-scheme: dark) {\n",
       "    /* Redefinition of color scheme for dark theme */\n",
       "    --sklearn-color-text-on-default-background: var(--sg-text-color, var(--theme-code-foreground, var(--jp-content-font-color1, white)));\n",
       "    --sklearn-color-background: var(--sg-background-color, var(--theme-background, var(--jp-layout-color0, #111)));\n",
       "    --sklearn-color-border-box: var(--sg-text-color, var(--theme-code-foreground, var(--jp-content-font-color1, white)));\n",
       "    --sklearn-color-icon: #878787;\n",
       "  }\n",
       "}\n",
       "\n",
       "#sk-container-id-1 {\n",
       "  color: var(--sklearn-color-text);\n",
       "}\n",
       "\n",
       "#sk-container-id-1 pre {\n",
       "  padding: 0;\n",
       "}\n",
       "\n",
       "#sk-container-id-1 input.sk-hidden--visually {\n",
       "  border: 0;\n",
       "  clip: rect(1px 1px 1px 1px);\n",
       "  clip: rect(1px, 1px, 1px, 1px);\n",
       "  height: 1px;\n",
       "  margin: -1px;\n",
       "  overflow: hidden;\n",
       "  padding: 0;\n",
       "  position: absolute;\n",
       "  width: 1px;\n",
       "}\n",
       "\n",
       "#sk-container-id-1 div.sk-dashed-wrapped {\n",
       "  border: 1px dashed var(--sklearn-color-line);\n",
       "  margin: 0 0.4em 0.5em 0.4em;\n",
       "  box-sizing: border-box;\n",
       "  padding-bottom: 0.4em;\n",
       "  background-color: var(--sklearn-color-background);\n",
       "}\n",
       "\n",
       "#sk-container-id-1 div.sk-container {\n",
       "  /* jupyter's `normalize.less` sets `[hidden] { display: none; }`\n",
       "     but bootstrap.min.css set `[hidden] { display: none !important; }`\n",
       "     so we also need the `!important` here to be able to override the\n",
       "     default hidden behavior on the sphinx rendered scikit-learn.org.\n",
       "     See: https://github.com/scikit-learn/scikit-learn/issues/21755 */\n",
       "  display: inline-block !important;\n",
       "  position: relative;\n",
       "}\n",
       "\n",
       "#sk-container-id-1 div.sk-text-repr-fallback {\n",
       "  display: none;\n",
       "}\n",
       "\n",
       "div.sk-parallel-item,\n",
       "div.sk-serial,\n",
       "div.sk-item {\n",
       "  /* draw centered vertical line to link estimators */\n",
       "  background-image: linear-gradient(var(--sklearn-color-text-on-default-background), var(--sklearn-color-text-on-default-background));\n",
       "  background-size: 2px 100%;\n",
       "  background-repeat: no-repeat;\n",
       "  background-position: center center;\n",
       "}\n",
       "\n",
       "/* Parallel-specific style estimator block */\n",
       "\n",
       "#sk-container-id-1 div.sk-parallel-item::after {\n",
       "  content: \"\";\n",
       "  width: 100%;\n",
       "  border-bottom: 2px solid var(--sklearn-color-text-on-default-background);\n",
       "  flex-grow: 1;\n",
       "}\n",
       "\n",
       "#sk-container-id-1 div.sk-parallel {\n",
       "  display: flex;\n",
       "  align-items: stretch;\n",
       "  justify-content: center;\n",
       "  background-color: var(--sklearn-color-background);\n",
       "  position: relative;\n",
       "}\n",
       "\n",
       "#sk-container-id-1 div.sk-parallel-item {\n",
       "  display: flex;\n",
       "  flex-direction: column;\n",
       "}\n",
       "\n",
       "#sk-container-id-1 div.sk-parallel-item:first-child::after {\n",
       "  align-self: flex-end;\n",
       "  width: 50%;\n",
       "}\n",
       "\n",
       "#sk-container-id-1 div.sk-parallel-item:last-child::after {\n",
       "  align-self: flex-start;\n",
       "  width: 50%;\n",
       "}\n",
       "\n",
       "#sk-container-id-1 div.sk-parallel-item:only-child::after {\n",
       "  width: 0;\n",
       "}\n",
       "\n",
       "/* Serial-specific style estimator block */\n",
       "\n",
       "#sk-container-id-1 div.sk-serial {\n",
       "  display: flex;\n",
       "  flex-direction: column;\n",
       "  align-items: center;\n",
       "  background-color: var(--sklearn-color-background);\n",
       "  padding-right: 1em;\n",
       "  padding-left: 1em;\n",
       "}\n",
       "\n",
       "\n",
       "/* Toggleable style: style used for estimator/Pipeline/ColumnTransformer box that is\n",
       "clickable and can be expanded/collapsed.\n",
       "- Pipeline and ColumnTransformer use this feature and define the default style\n",
       "- Estimators will overwrite some part of the style using the `sk-estimator` class\n",
       "*/\n",
       "\n",
       "/* Pipeline and ColumnTransformer style (default) */\n",
       "\n",
       "#sk-container-id-1 div.sk-toggleable {\n",
       "  /* Default theme specific background. It is overwritten whether we have a\n",
       "  specific estimator or a Pipeline/ColumnTransformer */\n",
       "  background-color: var(--sklearn-color-background);\n",
       "}\n",
       "\n",
       "/* Toggleable label */\n",
       "#sk-container-id-1 label.sk-toggleable__label {\n",
       "  cursor: pointer;\n",
       "  display: block;\n",
       "  width: 100%;\n",
       "  margin-bottom: 0;\n",
       "  padding: 0.5em;\n",
       "  box-sizing: border-box;\n",
       "  text-align: center;\n",
       "}\n",
       "\n",
       "#sk-container-id-1 label.sk-toggleable__label-arrow:before {\n",
       "  /* Arrow on the left of the label */\n",
       "  content: \"▸\";\n",
       "  float: left;\n",
       "  margin-right: 0.25em;\n",
       "  color: var(--sklearn-color-icon);\n",
       "}\n",
       "\n",
       "#sk-container-id-1 label.sk-toggleable__label-arrow:hover:before {\n",
       "  color: var(--sklearn-color-text);\n",
       "}\n",
       "\n",
       "/* Toggleable content - dropdown */\n",
       "\n",
       "#sk-container-id-1 div.sk-toggleable__content {\n",
       "  max-height: 0;\n",
       "  max-width: 0;\n",
       "  overflow: hidden;\n",
       "  text-align: left;\n",
       "  /* unfitted */\n",
       "  background-color: var(--sklearn-color-unfitted-level-0);\n",
       "}\n",
       "\n",
       "#sk-container-id-1 div.sk-toggleable__content.fitted {\n",
       "  /* fitted */\n",
       "  background-color: var(--sklearn-color-fitted-level-0);\n",
       "}\n",
       "\n",
       "#sk-container-id-1 div.sk-toggleable__content pre {\n",
       "  margin: 0.2em;\n",
       "  border-radius: 0.25em;\n",
       "  color: var(--sklearn-color-text);\n",
       "  /* unfitted */\n",
       "  background-color: var(--sklearn-color-unfitted-level-0);\n",
       "}\n",
       "\n",
       "#sk-container-id-1 div.sk-toggleable__content.fitted pre {\n",
       "  /* unfitted */\n",
       "  background-color: var(--sklearn-color-fitted-level-0);\n",
       "}\n",
       "\n",
       "#sk-container-id-1 input.sk-toggleable__control:checked~div.sk-toggleable__content {\n",
       "  /* Expand drop-down */\n",
       "  max-height: 200px;\n",
       "  max-width: 100%;\n",
       "  overflow: auto;\n",
       "}\n",
       "\n",
       "#sk-container-id-1 input.sk-toggleable__control:checked~label.sk-toggleable__label-arrow:before {\n",
       "  content: \"▾\";\n",
       "}\n",
       "\n",
       "/* Pipeline/ColumnTransformer-specific style */\n",
       "\n",
       "#sk-container-id-1 div.sk-label input.sk-toggleable__control:checked~label.sk-toggleable__label {\n",
       "  color: var(--sklearn-color-text);\n",
       "  background-color: var(--sklearn-color-unfitted-level-2);\n",
       "}\n",
       "\n",
       "#sk-container-id-1 div.sk-label.fitted input.sk-toggleable__control:checked~label.sk-toggleable__label {\n",
       "  background-color: var(--sklearn-color-fitted-level-2);\n",
       "}\n",
       "\n",
       "/* Estimator-specific style */\n",
       "\n",
       "/* Colorize estimator box */\n",
       "#sk-container-id-1 div.sk-estimator input.sk-toggleable__control:checked~label.sk-toggleable__label {\n",
       "  /* unfitted */\n",
       "  background-color: var(--sklearn-color-unfitted-level-2);\n",
       "}\n",
       "\n",
       "#sk-container-id-1 div.sk-estimator.fitted input.sk-toggleable__control:checked~label.sk-toggleable__label {\n",
       "  /* fitted */\n",
       "  background-color: var(--sklearn-color-fitted-level-2);\n",
       "}\n",
       "\n",
       "#sk-container-id-1 div.sk-label label.sk-toggleable__label,\n",
       "#sk-container-id-1 div.sk-label label {\n",
       "  /* The background is the default theme color */\n",
       "  color: var(--sklearn-color-text-on-default-background);\n",
       "}\n",
       "\n",
       "/* On hover, darken the color of the background */\n",
       "#sk-container-id-1 div.sk-label:hover label.sk-toggleable__label {\n",
       "  color: var(--sklearn-color-text);\n",
       "  background-color: var(--sklearn-color-unfitted-level-2);\n",
       "}\n",
       "\n",
       "/* Label box, darken color on hover, fitted */\n",
       "#sk-container-id-1 div.sk-label.fitted:hover label.sk-toggleable__label.fitted {\n",
       "  color: var(--sklearn-color-text);\n",
       "  background-color: var(--sklearn-color-fitted-level-2);\n",
       "}\n",
       "\n",
       "/* Estimator label */\n",
       "\n",
       "#sk-container-id-1 div.sk-label label {\n",
       "  font-family: monospace;\n",
       "  font-weight: bold;\n",
       "  display: inline-block;\n",
       "  line-height: 1.2em;\n",
       "}\n",
       "\n",
       "#sk-container-id-1 div.sk-label-container {\n",
       "  text-align: center;\n",
       "}\n",
       "\n",
       "/* Estimator-specific */\n",
       "#sk-container-id-1 div.sk-estimator {\n",
       "  font-family: monospace;\n",
       "  border: 1px dotted var(--sklearn-color-border-box);\n",
       "  border-radius: 0.25em;\n",
       "  box-sizing: border-box;\n",
       "  margin-bottom: 0.5em;\n",
       "  /* unfitted */\n",
       "  background-color: var(--sklearn-color-unfitted-level-0);\n",
       "}\n",
       "\n",
       "#sk-container-id-1 div.sk-estimator.fitted {\n",
       "  /* fitted */\n",
       "  background-color: var(--sklearn-color-fitted-level-0);\n",
       "}\n",
       "\n",
       "/* on hover */\n",
       "#sk-container-id-1 div.sk-estimator:hover {\n",
       "  /* unfitted */\n",
       "  background-color: var(--sklearn-color-unfitted-level-2);\n",
       "}\n",
       "\n",
       "#sk-container-id-1 div.sk-estimator.fitted:hover {\n",
       "  /* fitted */\n",
       "  background-color: var(--sklearn-color-fitted-level-2);\n",
       "}\n",
       "\n",
       "/* Specification for estimator info (e.g. \"i\" and \"?\") */\n",
       "\n",
       "/* Common style for \"i\" and \"?\" */\n",
       "\n",
       ".sk-estimator-doc-link,\n",
       "a:link.sk-estimator-doc-link,\n",
       "a:visited.sk-estimator-doc-link {\n",
       "  float: right;\n",
       "  font-size: smaller;\n",
       "  line-height: 1em;\n",
       "  font-family: monospace;\n",
       "  background-color: var(--sklearn-color-background);\n",
       "  border-radius: 1em;\n",
       "  height: 1em;\n",
       "  width: 1em;\n",
       "  text-decoration: none !important;\n",
       "  margin-left: 1ex;\n",
       "  /* unfitted */\n",
       "  border: var(--sklearn-color-unfitted-level-1) 1pt solid;\n",
       "  color: var(--sklearn-color-unfitted-level-1);\n",
       "}\n",
       "\n",
       ".sk-estimator-doc-link.fitted,\n",
       "a:link.sk-estimator-doc-link.fitted,\n",
       "a:visited.sk-estimator-doc-link.fitted {\n",
       "  /* fitted */\n",
       "  border: var(--sklearn-color-fitted-level-1) 1pt solid;\n",
       "  color: var(--sklearn-color-fitted-level-1);\n",
       "}\n",
       "\n",
       "/* On hover */\n",
       "div.sk-estimator:hover .sk-estimator-doc-link:hover,\n",
       ".sk-estimator-doc-link:hover,\n",
       "div.sk-label-container:hover .sk-estimator-doc-link:hover,\n",
       ".sk-estimator-doc-link:hover {\n",
       "  /* unfitted */\n",
       "  background-color: var(--sklearn-color-unfitted-level-3);\n",
       "  color: var(--sklearn-color-background);\n",
       "  text-decoration: none;\n",
       "}\n",
       "\n",
       "div.sk-estimator.fitted:hover .sk-estimator-doc-link.fitted:hover,\n",
       ".sk-estimator-doc-link.fitted:hover,\n",
       "div.sk-label-container:hover .sk-estimator-doc-link.fitted:hover,\n",
       ".sk-estimator-doc-link.fitted:hover {\n",
       "  /* fitted */\n",
       "  background-color: var(--sklearn-color-fitted-level-3);\n",
       "  color: var(--sklearn-color-background);\n",
       "  text-decoration: none;\n",
       "}\n",
       "\n",
       "/* Span, style for the box shown on hovering the info icon */\n",
       ".sk-estimator-doc-link span {\n",
       "  display: none;\n",
       "  z-index: 9999;\n",
       "  position: relative;\n",
       "  font-weight: normal;\n",
       "  right: .2ex;\n",
       "  padding: .5ex;\n",
       "  margin: .5ex;\n",
       "  width: min-content;\n",
       "  min-width: 20ex;\n",
       "  max-width: 50ex;\n",
       "  color: var(--sklearn-color-text);\n",
       "  box-shadow: 2pt 2pt 4pt #999;\n",
       "  /* unfitted */\n",
       "  background: var(--sklearn-color-unfitted-level-0);\n",
       "  border: .5pt solid var(--sklearn-color-unfitted-level-3);\n",
       "}\n",
       "\n",
       ".sk-estimator-doc-link.fitted span {\n",
       "  /* fitted */\n",
       "  background: var(--sklearn-color-fitted-level-0);\n",
       "  border: var(--sklearn-color-fitted-level-3);\n",
       "}\n",
       "\n",
       ".sk-estimator-doc-link:hover span {\n",
       "  display: block;\n",
       "}\n",
       "\n",
       "/* \"?\"-specific style due to the `<a>` HTML tag */\n",
       "\n",
       "#sk-container-id-1 a.estimator_doc_link {\n",
       "  float: right;\n",
       "  font-size: 1rem;\n",
       "  line-height: 1em;\n",
       "  font-family: monospace;\n",
       "  background-color: var(--sklearn-color-background);\n",
       "  border-radius: 1rem;\n",
       "  height: 1rem;\n",
       "  width: 1rem;\n",
       "  text-decoration: none;\n",
       "  /* unfitted */\n",
       "  color: var(--sklearn-color-unfitted-level-1);\n",
       "  border: var(--sklearn-color-unfitted-level-1) 1pt solid;\n",
       "}\n",
       "\n",
       "#sk-container-id-1 a.estimator_doc_link.fitted {\n",
       "  /* fitted */\n",
       "  border: var(--sklearn-color-fitted-level-1) 1pt solid;\n",
       "  color: var(--sklearn-color-fitted-level-1);\n",
       "}\n",
       "\n",
       "/* On hover */\n",
       "#sk-container-id-1 a.estimator_doc_link:hover {\n",
       "  /* unfitted */\n",
       "  background-color: var(--sklearn-color-unfitted-level-3);\n",
       "  color: var(--sklearn-color-background);\n",
       "  text-decoration: none;\n",
       "}\n",
       "\n",
       "#sk-container-id-1 a.estimator_doc_link.fitted:hover {\n",
       "  /* fitted */\n",
       "  background-color: var(--sklearn-color-fitted-level-3);\n",
       "}\n",
       "</style><div id=\"sk-container-id-1\" class=\"sk-top-container\"><div class=\"sk-text-repr-fallback\"><pre>LabelEncoder()</pre><b>In a Jupyter environment, please rerun this cell to show the HTML representation or trust the notebook. <br />On GitHub, the HTML representation is unable to render, please try loading this page with nbviewer.org.</b></div><div class=\"sk-container\" hidden><div class=\"sk-item\"><div class=\"sk-estimator fitted sk-toggleable\"><input class=\"sk-toggleable__control sk-hidden--visually\" id=\"sk-estimator-id-1\" type=\"checkbox\" checked><label for=\"sk-estimator-id-1\" class=\"sk-toggleable__label fitted sk-toggleable__label-arrow fitted\">&nbsp;&nbsp;LabelEncoder<a class=\"sk-estimator-doc-link fitted\" rel=\"noreferrer\" target=\"_blank\" href=\"https://scikit-learn.org/1.5/modules/generated/sklearn.preprocessing.LabelEncoder.html\">?<span>Documentation for LabelEncoder</span></a><span class=\"sk-estimator-doc-link fitted\">i<span>Fitted</span></span></label><div class=\"sk-toggleable__content fitted\"><pre>LabelEncoder()</pre></div> </div></div></div></div>"
      ],
      "text/plain": [
       "LabelEncoder()"
      ]
     },
     "execution_count": 14,
     "metadata": {},
     "output_type": "execute_result"
    }
   ],
   "source": [
    "le = LabelEncoder()\n",
    "le.fit(train['label'])"
   ]
  },
  {
   "cell_type": "code",
   "execution_count": 15,
   "id": "08b7c6c6-54c3-4d73-8ada-9b784bff6fb6",
   "metadata": {},
   "outputs": [],
   "source": [
    "y_train = le.transform(train['label'])\n",
    "y_test = le.transform(test['label'])"
   ]
  },
  {
   "cell_type": "code",
   "execution_count": 16,
   "id": "86827392-cf81-4146-933f-2e4f0380d5f7",
   "metadata": {},
   "outputs": [],
   "source": [
    "y_train = to_categorical(y_train,num_classes = 7)\n",
    "y_test = to_categorical(y_test,num_classes = 7)"
   ]
  },
  {
   "cell_type": "code",
   "execution_count": 17,
   "id": "aba47937-4ebe-4b81-9165-26b3ae1f8586",
   "metadata": {},
   "outputs": [],
   "source": [
    "model = Sequential()\n",
    "# convolutional layers\n",
    "model.add(Conv2D(128, kernel_size=(3,3), activation='relu', input_shape=(48,48,1)))\n",
    "model.add(MaxPooling2D(pool_size=(2,2)))\n",
    "model.add(Dropout(0.4))\n",
    "\n",
    "model.add(Conv2D(256, kernel_size=(3,3), activation='relu'))\n",
    "model.add(MaxPooling2D(pool_size=(2,2)))\n",
    "model.add(Dropout(0.4))\n",
    "\n",
    "model.add(Conv2D(512, kernel_size=(3,3), activation='relu'))\n",
    "model.add(MaxPooling2D(pool_size=(2,2)))\n",
    "model.add(Dropout(0.4))\n",
    "\n",
    "model.add(Conv2D(512, kernel_size=(3,3), activation='relu'))\n",
    "model.add(MaxPooling2D(pool_size=(2,2)))\n",
    "model.add(Dropout(0.4))\n",
    "\n",
    "model.add(Flatten())\n",
    "# fully connected layers\n",
    "model.add(Dense(512, activation='relu'))\n",
    "model.add(Dropout(0.4))\n",
    "model.add(Dense(256, activation='relu'))\n",
    "model.add(Dropout(0.3))\n",
    "# output layer\n",
    "model.add(Dense(7, activation='softmax'))"
   ]
  },
  {
   "cell_type": "code",
   "execution_count": 18,
   "id": "3e4e2903-ad43-4926-ad51-88f7db59e5f3",
   "metadata": {},
   "outputs": [],
   "source": [
    "model.compile(optimizer = 'adam', loss = 'categorical_crossentropy', metrics = 'accuracy' )\n"
   ]
  },
  {
   "cell_type": "code",
   "execution_count": 19,
   "id": "9c84172e-7ef4-4660-ba64-087f052202f1",
   "metadata": {},
   "outputs": [
    {
     "name": "stdout",
     "output_type": "stream",
     "text": [
      "Epoch 1/100\n",
      "226/226 [==============================] - 176s 773ms/step - loss: 1.8272 - accuracy: 0.2411 - val_loss: 1.8233 - val_accuracy: 0.2583\n",
      "Epoch 2/100\n",
      "226/226 [==============================] - 175s 773ms/step - loss: 1.8024 - accuracy: 0.2511 - val_loss: 1.7427 - val_accuracy: 0.2886\n",
      "Epoch 3/100\n",
      "226/226 [==============================] - 175s 775ms/step - loss: 1.7106 - accuracy: 0.2992 - val_loss: 1.5909 - val_accuracy: 0.3872\n",
      "Epoch 4/100\n",
      "226/226 [==============================] - 179s 794ms/step - loss: 1.5781 - accuracy: 0.3763 - val_loss: 1.4243 - val_accuracy: 0.4529\n",
      "Epoch 5/100\n",
      "226/226 [==============================] - 190s 840ms/step - loss: 1.4819 - accuracy: 0.4255 - val_loss: 1.3502 - val_accuracy: 0.4795\n",
      "Epoch 6/100\n",
      "226/226 [==============================] - 176s 779ms/step - loss: 1.4241 - accuracy: 0.4514 - val_loss: 1.3160 - val_accuracy: 0.4935\n",
      "Epoch 7/100\n",
      "226/226 [==============================] - 181s 802ms/step - loss: 1.3857 - accuracy: 0.4657 - val_loss: 1.2895 - val_accuracy: 0.5113\n",
      "Epoch 8/100\n",
      "226/226 [==============================] - 185s 819ms/step - loss: 1.3461 - accuracy: 0.4843 - val_loss: 1.2530 - val_accuracy: 0.5231\n",
      "Epoch 9/100\n",
      "226/226 [==============================] - 186s 824ms/step - loss: 1.3233 - accuracy: 0.4943 - val_loss: 1.2098 - val_accuracy: 0.5350\n",
      "Epoch 10/100\n",
      "226/226 [==============================] - 182s 805ms/step - loss: 1.2896 - accuracy: 0.5046 - val_loss: 1.1976 - val_accuracy: 0.5436\n",
      "Epoch 11/100\n",
      "226/226 [==============================] - 179s 790ms/step - loss: 1.2763 - accuracy: 0.5130 - val_loss: 1.1877 - val_accuracy: 0.5476\n",
      "Epoch 12/100\n",
      "226/226 [==============================] - 173s 765ms/step - loss: 1.2565 - accuracy: 0.5191 - val_loss: 1.1676 - val_accuracy: 0.5558\n",
      "Epoch 13/100\n",
      "226/226 [==============================] - 172s 761ms/step - loss: 1.2409 - accuracy: 0.5266 - val_loss: 1.1529 - val_accuracy: 0.5630\n",
      "Epoch 14/100\n",
      "226/226 [==============================] - 445s 2s/step - loss: 1.2236 - accuracy: 0.5353 - val_loss: 1.1463 - val_accuracy: 0.5675\n",
      "Epoch 15/100\n",
      "226/226 [==============================] - 173s 765ms/step - loss: 1.2001 - accuracy: 0.5419 - val_loss: 1.1423 - val_accuracy: 0.5691\n",
      "Epoch 16/100\n",
      "226/226 [==============================] - 173s 764ms/step - loss: 1.1979 - accuracy: 0.5454 - val_loss: 1.1260 - val_accuracy: 0.5701\n",
      "Epoch 17/100\n",
      "226/226 [==============================] - 173s 764ms/step - loss: 1.1772 - accuracy: 0.5547 - val_loss: 1.1167 - val_accuracy: 0.5761\n",
      "Epoch 18/100\n",
      "226/226 [==============================] - 204s 903ms/step - loss: 1.1730 - accuracy: 0.5538 - val_loss: 1.1141 - val_accuracy: 0.5794\n",
      "Epoch 19/100\n",
      "226/226 [==============================] - 189s 836ms/step - loss: 1.1649 - accuracy: 0.5587 - val_loss: 1.1023 - val_accuracy: 0.5851\n",
      "Epoch 20/100\n",
      "226/226 [==============================] - 147s 650ms/step - loss: 1.1494 - accuracy: 0.5646 - val_loss: 1.1028 - val_accuracy: 0.5835\n",
      "Epoch 21/100\n",
      "226/226 [==============================] - 150s 662ms/step - loss: 1.1378 - accuracy: 0.5688 - val_loss: 1.0887 - val_accuracy: 0.5924\n",
      "Epoch 22/100\n",
      "226/226 [==============================] - 149s 660ms/step - loss: 1.1287 - accuracy: 0.5702 - val_loss: 1.0901 - val_accuracy: 0.5886\n",
      "Epoch 23/100\n",
      "226/226 [==============================] - 149s 661ms/step - loss: 1.1191 - accuracy: 0.5773 - val_loss: 1.0815 - val_accuracy: 0.5937\n",
      "Epoch 24/100\n",
      "226/226 [==============================] - 150s 662ms/step - loss: 1.1192 - accuracy: 0.5818 - val_loss: 1.0849 - val_accuracy: 0.5889\n",
      "Epoch 25/100\n",
      "226/226 [==============================] - 149s 661ms/step - loss: 1.1039 - accuracy: 0.5810 - val_loss: 1.0786 - val_accuracy: 0.5958\n",
      "Epoch 26/100\n",
      "226/226 [==============================] - 149s 660ms/step - loss: 1.0928 - accuracy: 0.5868 - val_loss: 1.0684 - val_accuracy: 0.6005\n",
      "Epoch 27/100\n",
      "226/226 [==============================] - 150s 664ms/step - loss: 1.0847 - accuracy: 0.5918 - val_loss: 1.0729 - val_accuracy: 0.5998\n",
      "Epoch 28/100\n",
      "226/226 [==============================] - 148s 654ms/step - loss: 1.0771 - accuracy: 0.5892 - val_loss: 1.0700 - val_accuracy: 0.5972\n",
      "Epoch 29/100\n",
      "226/226 [==============================] - 152s 672ms/step - loss: 1.0689 - accuracy: 0.5987 - val_loss: 1.0689 - val_accuracy: 0.6001\n",
      "Epoch 30/100\n",
      "226/226 [==============================] - 150s 663ms/step - loss: 1.0668 - accuracy: 0.5990 - val_loss: 1.0628 - val_accuracy: 0.6002\n",
      "Epoch 31/100\n",
      "226/226 [==============================] - 151s 668ms/step - loss: 1.0582 - accuracy: 0.6008 - val_loss: 1.0707 - val_accuracy: 0.5972\n",
      "Epoch 32/100\n",
      "226/226 [==============================] - 152s 673ms/step - loss: 1.0541 - accuracy: 0.6050 - val_loss: 1.0595 - val_accuracy: 0.6026\n",
      "Epoch 33/100\n",
      "226/226 [==============================] - 155s 684ms/step - loss: 1.0431 - accuracy: 0.6072 - val_loss: 1.0530 - val_accuracy: 0.6053\n",
      "Epoch 34/100\n",
      "226/226 [==============================] - 154s 680ms/step - loss: 1.0375 - accuracy: 0.6078 - val_loss: 1.0503 - val_accuracy: 0.6043\n",
      "Epoch 35/100\n",
      "226/226 [==============================] - 155s 686ms/step - loss: 1.0322 - accuracy: 0.6096 - val_loss: 1.0513 - val_accuracy: 0.6077\n",
      "Epoch 36/100\n",
      "226/226 [==============================] - 156s 690ms/step - loss: 1.0284 - accuracy: 0.6111 - val_loss: 1.0542 - val_accuracy: 0.6064\n",
      "Epoch 37/100\n",
      "226/226 [==============================] - 156s 689ms/step - loss: 1.0273 - accuracy: 0.6138 - val_loss: 1.0545 - val_accuracy: 0.6061\n",
      "Epoch 38/100\n",
      "226/226 [==============================] - 155s 685ms/step - loss: 1.0100 - accuracy: 0.6202 - val_loss: 1.0576 - val_accuracy: 0.6040\n",
      "Epoch 39/100\n",
      "226/226 [==============================] - 155s 685ms/step - loss: 1.0030 - accuracy: 0.6208 - val_loss: 1.0407 - val_accuracy: 0.6146\n",
      "Epoch 40/100\n",
      "226/226 [==============================] - 153s 677ms/step - loss: 1.0015 - accuracy: 0.6224 - val_loss: 1.0435 - val_accuracy: 0.6100\n",
      "Epoch 41/100\n",
      "226/226 [==============================] - 151s 669ms/step - loss: 0.9938 - accuracy: 0.6239 - val_loss: 1.0441 - val_accuracy: 0.6094\n",
      "Epoch 42/100\n",
      "226/226 [==============================] - 151s 667ms/step - loss: 0.9844 - accuracy: 0.6293 - val_loss: 1.0467 - val_accuracy: 0.6118\n",
      "Epoch 43/100\n",
      "226/226 [==============================] - 150s 665ms/step - loss: 0.9846 - accuracy: 0.6308 - val_loss: 1.0361 - val_accuracy: 0.6135\n",
      "Epoch 44/100\n",
      "226/226 [==============================] - 150s 663ms/step - loss: 0.9754 - accuracy: 0.6317 - val_loss: 1.0359 - val_accuracy: 0.6186\n",
      "Epoch 45/100\n",
      "226/226 [==============================] - 150s 664ms/step - loss: 0.9739 - accuracy: 0.6340 - val_loss: 1.0318 - val_accuracy: 0.6159\n",
      "Epoch 46/100\n",
      "226/226 [==============================] - 150s 662ms/step - loss: 0.9658 - accuracy: 0.6402 - val_loss: 1.0378 - val_accuracy: 0.6115\n",
      "Epoch 47/100\n",
      "226/226 [==============================] - 149s 660ms/step - loss: 0.9542 - accuracy: 0.6420 - val_loss: 1.0275 - val_accuracy: 0.6149\n",
      "Epoch 48/100\n",
      "226/226 [==============================] - 149s 660ms/step - loss: 0.9479 - accuracy: 0.6461 - val_loss: 1.0336 - val_accuracy: 0.6203\n",
      "Epoch 49/100\n",
      "226/226 [==============================] - 150s 662ms/step - loss: 0.9468 - accuracy: 0.6472 - val_loss: 1.0382 - val_accuracy: 0.6139\n",
      "Epoch 50/100\n",
      "226/226 [==============================] - 149s 659ms/step - loss: 0.9364 - accuracy: 0.6488 - val_loss: 1.0363 - val_accuracy: 0.6209\n",
      "Epoch 51/100\n",
      "226/226 [==============================] - 150s 664ms/step - loss: 0.9397 - accuracy: 0.6477 - val_loss: 1.0249 - val_accuracy: 0.6194\n",
      "Epoch 52/100\n",
      "226/226 [==============================] - 150s 662ms/step - loss: 0.9369 - accuracy: 0.6509 - val_loss: 1.0254 - val_accuracy: 0.6260\n",
      "Epoch 53/100\n",
      "226/226 [==============================] - 149s 660ms/step - loss: 0.9226 - accuracy: 0.6544 - val_loss: 1.0292 - val_accuracy: 0.6258\n",
      "Epoch 54/100\n",
      "226/226 [==============================] - 149s 661ms/step - loss: 0.9185 - accuracy: 0.6573 - val_loss: 1.0287 - val_accuracy: 0.6179\n",
      "Epoch 55/100\n",
      "226/226 [==============================] - 149s 658ms/step - loss: 0.9057 - accuracy: 0.6598 - val_loss: 1.0248 - val_accuracy: 0.6216\n",
      "Epoch 56/100\n",
      "226/226 [==============================] - 149s 660ms/step - loss: 0.9083 - accuracy: 0.6576 - val_loss: 1.0265 - val_accuracy: 0.6234\n",
      "Epoch 57/100\n",
      "226/226 [==============================] - 148s 657ms/step - loss: 0.9099 - accuracy: 0.6605 - val_loss: 1.0268 - val_accuracy: 0.6221\n",
      "Epoch 58/100\n",
      "226/226 [==============================] - 149s 659ms/step - loss: 0.8979 - accuracy: 0.6675 - val_loss: 1.0241 - val_accuracy: 0.6234\n",
      "Epoch 59/100\n",
      "226/226 [==============================] - 149s 658ms/step - loss: 0.8944 - accuracy: 0.6672 - val_loss: 1.0304 - val_accuracy: 0.6234\n",
      "Epoch 60/100\n",
      "226/226 [==============================] - 150s 662ms/step - loss: 0.8862 - accuracy: 0.6690 - val_loss: 1.0281 - val_accuracy: 0.6221\n",
      "Epoch 61/100\n",
      "226/226 [==============================] - 149s 659ms/step - loss: 0.8854 - accuracy: 0.6693 - val_loss: 1.0258 - val_accuracy: 0.6264\n",
      "Epoch 62/100\n",
      "226/226 [==============================] - 149s 660ms/step - loss: 0.8779 - accuracy: 0.6724 - val_loss: 1.0290 - val_accuracy: 0.6274\n",
      "Epoch 63/100\n",
      "226/226 [==============================] - 149s 660ms/step - loss: 0.8767 - accuracy: 0.6733 - val_loss: 1.0284 - val_accuracy: 0.6248\n",
      "Epoch 64/100\n",
      "226/226 [==============================] - 149s 658ms/step - loss: 0.8644 - accuracy: 0.6787 - val_loss: 1.0318 - val_accuracy: 0.6306\n",
      "Epoch 65/100\n",
      "226/226 [==============================] - 150s 664ms/step - loss: 0.8681 - accuracy: 0.6755 - val_loss: 1.0266 - val_accuracy: 0.6282\n",
      "Epoch 66/100\n",
      "226/226 [==============================] - 149s 660ms/step - loss: 0.8673 - accuracy: 0.6759 - val_loss: 1.0425 - val_accuracy: 0.6203\n",
      "Epoch 67/100\n",
      "226/226 [==============================] - 149s 659ms/step - loss: 0.8586 - accuracy: 0.6817 - val_loss: 1.0356 - val_accuracy: 0.6193\n",
      "Epoch 68/100\n",
      "226/226 [==============================] - 149s 659ms/step - loss: 0.8500 - accuracy: 0.6853 - val_loss: 1.0292 - val_accuracy: 0.6289\n",
      "Epoch 69/100\n",
      "226/226 [==============================] - 149s 660ms/step - loss: 0.8494 - accuracy: 0.6818 - val_loss: 1.0338 - val_accuracy: 0.6209\n",
      "Epoch 70/100\n",
      "226/226 [==============================] - 148s 657ms/step - loss: 0.8439 - accuracy: 0.6887 - val_loss: 1.0347 - val_accuracy: 0.6261\n",
      "Epoch 71/100\n",
      "226/226 [==============================] - 149s 661ms/step - loss: 0.8358 - accuracy: 0.6901 - val_loss: 1.0164 - val_accuracy: 0.6289\n",
      "Epoch 72/100\n",
      "226/226 [==============================] - 149s 658ms/step - loss: 0.8304 - accuracy: 0.6943 - val_loss: 1.0305 - val_accuracy: 0.6269\n",
      "Epoch 73/100\n",
      "226/226 [==============================] - 149s 661ms/step - loss: 0.8400 - accuracy: 0.6881 - val_loss: 1.0334 - val_accuracy: 0.6238\n",
      "Epoch 74/100\n",
      "226/226 [==============================] - 149s 658ms/step - loss: 0.8314 - accuracy: 0.6935 - val_loss: 1.0203 - val_accuracy: 0.6294\n",
      "Epoch 75/100\n",
      "226/226 [==============================] - 150s 662ms/step - loss: 0.8239 - accuracy: 0.6972 - val_loss: 1.0256 - val_accuracy: 0.6298\n",
      "Epoch 76/100\n",
      "226/226 [==============================] - 150s 663ms/step - loss: 0.8154 - accuracy: 0.6989 - val_loss: 1.0279 - val_accuracy: 0.6254\n",
      "Epoch 77/100\n",
      "226/226 [==============================] - 149s 660ms/step - loss: 0.8113 - accuracy: 0.6973 - val_loss: 1.0273 - val_accuracy: 0.6277\n",
      "Epoch 78/100\n",
      "226/226 [==============================] - 150s 663ms/step - loss: 0.8045 - accuracy: 0.7040 - val_loss: 1.0295 - val_accuracy: 0.6373\n",
      "Epoch 79/100\n",
      "226/226 [==============================] - 149s 661ms/step - loss: 0.8005 - accuracy: 0.7073 - val_loss: 1.0355 - val_accuracy: 0.6299\n",
      "Epoch 80/100\n",
      "226/226 [==============================] - 149s 659ms/step - loss: 0.8020 - accuracy: 0.7065 - val_loss: 1.0359 - val_accuracy: 0.6301\n",
      "Epoch 81/100\n",
      "226/226 [==============================] - 149s 660ms/step - loss: 0.7993 - accuracy: 0.7014 - val_loss: 1.0339 - val_accuracy: 0.6332\n",
      "Epoch 82/100\n",
      "226/226 [==============================] - 149s 661ms/step - loss: 0.7889 - accuracy: 0.7139 - val_loss: 1.0246 - val_accuracy: 0.6318\n",
      "Epoch 83/100\n",
      "226/226 [==============================] - 149s 662ms/step - loss: 0.7825 - accuracy: 0.7123 - val_loss: 1.0325 - val_accuracy: 0.6302\n",
      "Epoch 84/100\n",
      "226/226 [==============================] - 150s 663ms/step - loss: 0.7807 - accuracy: 0.7150 - val_loss: 1.0353 - val_accuracy: 0.6312\n",
      "Epoch 85/100\n",
      "226/226 [==============================] - 148s 657ms/step - loss: 0.7772 - accuracy: 0.7126 - val_loss: 1.0409 - val_accuracy: 0.6309\n",
      "Epoch 86/100\n",
      "226/226 [==============================] - 149s 661ms/step - loss: 0.7692 - accuracy: 0.7211 - val_loss: 1.0358 - val_accuracy: 0.6272\n",
      "Epoch 87/100\n",
      "226/226 [==============================] - 149s 661ms/step - loss: 0.7740 - accuracy: 0.7163 - val_loss: 1.0420 - val_accuracy: 0.6245\n",
      "Epoch 88/100\n",
      "226/226 [==============================] - 149s 658ms/step - loss: 0.7664 - accuracy: 0.7165 - val_loss: 1.0380 - val_accuracy: 0.6284\n",
      "Epoch 89/100\n",
      "226/226 [==============================] - 150s 663ms/step - loss: 0.7631 - accuracy: 0.7217 - val_loss: 1.0360 - val_accuracy: 0.6319\n",
      "Epoch 90/100\n",
      "226/226 [==============================] - 150s 664ms/step - loss: 0.7563 - accuracy: 0.7244 - val_loss: 1.0335 - val_accuracy: 0.6284\n",
      "Epoch 91/100\n",
      "226/226 [==============================] - 150s 663ms/step - loss: 0.7555 - accuracy: 0.7264 - val_loss: 1.0281 - val_accuracy: 0.6335\n",
      "Epoch 92/100\n",
      "226/226 [==============================] - 150s 663ms/step - loss: 0.7536 - accuracy: 0.7253 - val_loss: 1.0350 - val_accuracy: 0.6281\n",
      "Epoch 93/100\n",
      "226/226 [==============================] - 151s 667ms/step - loss: 0.7510 - accuracy: 0.7239 - val_loss: 1.0497 - val_accuracy: 0.6298\n",
      "Epoch 94/100\n",
      "226/226 [==============================] - 150s 665ms/step - loss: 0.7472 - accuracy: 0.7277 - val_loss: 1.0453 - val_accuracy: 0.6251\n",
      "Epoch 95/100\n",
      "226/226 [==============================] - 151s 669ms/step - loss: 0.7460 - accuracy: 0.7292 - val_loss: 1.0203 - val_accuracy: 0.6347\n",
      "Epoch 96/100\n",
      "226/226 [==============================] - 153s 675ms/step - loss: 0.7358 - accuracy: 0.7305 - val_loss: 1.0334 - val_accuracy: 0.6319\n",
      "Epoch 97/100\n",
      "226/226 [==============================] - 153s 676ms/step - loss: 0.7298 - accuracy: 0.7314 - val_loss: 1.0335 - val_accuracy: 0.6343\n",
      "Epoch 98/100\n",
      "226/226 [==============================] - 151s 668ms/step - loss: 0.7313 - accuracy: 0.7324 - val_loss: 1.0491 - val_accuracy: 0.6323\n",
      "Epoch 99/100\n",
      "226/226 [==============================] - 151s 670ms/step - loss: 0.7233 - accuracy: 0.7348 - val_loss: 1.0424 - val_accuracy: 0.6346\n",
      "Epoch 100/100\n",
      "226/226 [==============================] - 150s 662ms/step - loss: 0.7193 - accuracy: 0.7380 - val_loss: 1.0368 - val_accuracy: 0.6360\n"
     ]
    },
    {
     "data": {
      "text/plain": [
       "<keras.callbacks.History at 0x1bc7b945360>"
      ]
     },
     "execution_count": 19,
     "metadata": {},
     "output_type": "execute_result"
    }
   ],
   "source": [
    "model.fit(x= x_train,y = y_train, batch_size = 128, epochs = 100, validation_data = (x_test,y_test)) \n"
   ]
  },
  {
   "cell_type": "code",
   "execution_count": 21,
   "id": "83080b35-dd51-4117-9fb4-f4f53fa5004a",
   "metadata": {},
   "outputs": [],
   "source": [
    "model_json = model.to_json()\n",
    "with open(\"emotiondetector.json\",'w') as json_file:\n",
    "    json_file.write(model_json)\n",
    "model.save(\"emotiondetector.h5\")"
   ]
  },
  {
   "cell_type": "code",
   "execution_count": 22,
   "id": "ebc9b827-fbe8-4811-8b6c-6339d167132d",
   "metadata": {},
   "outputs": [],
   "source": [
    "\n",
    "from keras.models import model_from_json"
   ]
  },
  {
   "cell_type": "code",
   "execution_count": 24,
   "id": "51575f8e-4451-4983-a526-a51e41c8e948",
   "metadata": {},
   "outputs": [],
   "source": [
    "json_file = open(\"emotiondetector.json\", \"r\")\n",
    "model_json = json_file.read()\n",
    "json_file.close()\n",
    "model = model_from_json(model_json)\n",
    "model.load_weights(\"emotiondetector.h5\")\n"
   ]
  },
  {
   "cell_type": "code",
   "execution_count": 25,
   "id": "caa3b03b-3d5d-4177-9500-272f5977ef72",
   "metadata": {},
   "outputs": [],
   "source": [
    "label = ['angry','disgust','fear','happy','neutral','sad','surprise']"
   ]
  },
  {
   "cell_type": "code",
   "execution_count": 30,
   "id": "8ff633b3-bfb4-448c-91ca-46b146fa4d7f",
   "metadata": {},
   "outputs": [],
   "source": [
    "def ef(image):\n",
    "    # Load the image in grayscale mode\n",
    "    img = load_img(image, color_mode=\"grayscale\", target_size=(48, 48))\n",
    "    feature = np.array(img)\n",
    "    feature = feature.reshape(1, 48, 48, 1)  # Reshape for the model\n",
    "    return feature / 255.0 "
   ]
  },
  {
   "cell_type": "code",
   "execution_count": 31,
   "id": "4fecea68-7e2f-414c-a137-a601ee19442b",
   "metadata": {},
   "outputs": [
    {
     "name": "stdout",
     "output_type": "stream",
     "text": [
      "original image is of sad\n",
      "1/1 [==============================] - 0s 36ms/step\n",
      "model prediction is sad\n"
     ]
    }
   ],
   "source": [
    "image_path = 'images/train/sad/42.jpg'\n",
    "print(\"original image is of sad\")\n",
    "img = ef(image_path)\n",
    "pred = model.predict(img)\n",
    "pred_label = label[pred.argmax()]\n",
    "print(\"model prediction is\", pred_label)"
   ]
  },
  {
   "cell_type": "code",
   "execution_count": 32,
   "id": "2b4c1378-b011-4d64-8af2-0d0a0803bae5",
   "metadata": {},
   "outputs": [],
   "source": [
    "import matplotlib.pyplot as plt\n",
    "%matplotlib inline"
   ]
  },
  {
   "cell_type": "code",
   "execution_count": 38,
   "id": "9740bb11-7ae2-44ee-bc6f-70111d9811c7",
   "metadata": {},
   "outputs": [
    {
     "name": "stdout",
     "output_type": "stream",
     "text": [
      "original image is of sad\n",
      "1/1 [==============================] - 0s 26ms/step\n",
      "model prediction is sad\n"
     ]
    },
    {
     "data": {
      "image/png": "[encoded data removed]",
      "text/plain": [
       "<Figure size 640x480 with 1 Axes>"
      ]
     },
     "metadata": {},
     "output_type": "display_data"
    }
   ],
   "source": [
    "import matplotlib.pyplot as plt\n",
    "\n",
    "\n",
    "image = 'images/train/sad/42.jpg'\n",
    "print(\"original image is of sad\")\n",
    "\n",
    "# Get the image features\n",
    "img = ef(image)\n",
    "\n",
    "# Predict the label\n",
    "pred = model.predict(img)\n",
    "pred_label = label[pred.argmax()]\n",
    "print(\"model prediction is\", pred_label)\n",
    "\n",
    "# Display the image\n",
    "# Remove batch and channel dimensions (reshape back to (48, 48))\n",
    "plt.imshow(img.reshape(48, 48), cmap='gray')\n",
    "plt.title(f'Prediction: {pred_label}')  # Turn off axis display for cleaner output\n",
    "plt.show()\n"
   ]
  },
  {
   "cell_type": "code",
   "execution_count": 46,
   "id": "e0f7b26c-e6b7-463a-8d4e-c28b4610b8cc",
   "metadata": {},
   "outputs": [
    {
     "name": "stdout",
     "output_type": "stream",
     "text": [
      "original image is of fear\n",
      "1/1 [==============================] - 0s 30ms/step\n",
      "model prediction is fear\n"
     ]
    },
    {
     "data": {
      "image/png": "[encoded data removed]",
      "text/plain": [
       "<Figure size 640x480 with 1 Axes>"
      ]
     },
     "metadata": {},
     "output_type": "display_data"
    }
   ],
   "source": [
    "image = 'images/train/fear/2.jpg'\n",
    "print(\"original image is of fear\")\n",
    "\n",
    "# Get the image features\n",
    "img = ef(image)\n",
    "\n",
    "# Predict the label\n",
    "pred = model.predict(img)\n",
    "pred_label = label[pred.argmax()]\n",
    "print(\"model prediction is\", pred_label)\n",
    "\n",
    "# Display the image\n",
    "# Remove batch and channel dimensions (reshape back to (48, 48))\n",
    "plt.imshow(img.reshape(48, 48), cmap='gray')\n",
    "plt.title(f'Prediction: {pred_label}')  # Turn off axis display for cleaner output\n",
    "plt.show()"
   ]
  },
  {
   "cell_type": "code",
   "execution_count": 45,
   "id": "ef6e6278-ad66-4f03-9757-6f2a4be6cb8a",
   "metadata": {},
   "outputs": [
    {
     "name": "stdout",
     "output_type": "stream",
     "text": [
      "original image is of disgust\n",
      "1/1 [==============================] - 0s 30ms/step\n",
      "model prediction is disgust\n"
     ]
    },
    {
     "data": {
      "image/png": "[encoded data removed]",
      "text/plain": [
       "<Figure size 640x480 with 1 Axes>"
      ]
     },
     "metadata": {},
     "output_type": "display_data"
    }
   ],
   "source": [
    "image = 'images/train/disgust/299.jpg'\n",
    "print(\"original image is of disgust\")\n",
    "\n",
    "# Get the image features\n",
    "img = ef(image)\n",
    "\n",
    "# Predict the label\n",
    "pred = model.predict(img)\n",
    "pred_label = label[pred.argmax()]\n",
    "print(\"model prediction is\", pred_label)\n",
    "\n",
    "# Display the image\n",
    "# Remove batch and channel dimensions (reshape back to (48, 48))\n",
    "plt.imshow(img.reshape(48, 48), cmap='gray')\n",
    "plt.title(f'Prediction: {pred_label}')  # Turn off axis display for cleaner output\n",
    "plt.show()"
   ]
  },
  {
   "cell_type": "code",
   "execution_count": 44,
   "id": "6ef30001-94ae-4784-9e4b-5aa7fda775af",
   "metadata": {},
   "outputs": [
    {
     "name": "stdout",
     "output_type": "stream",
     "text": [
      "original image is of happy\n",
      "1/1 [==============================] - 0s 28ms/step\n",
      "model prediction is happy\n"
     ]
    },
    {
     "data": {
      "image/png": "[encoded data removed]",
      "text/plain": [
       "<Figure size 640x480 with 1 Axes>"
      ]
     },
     "metadata": {},
     "output_type": "display_data"
    }
   ],
   "source": [
    "image = 'images/train/happy/7.jpg'\n",
    "print(\"original image is of happy\")\n",
    "\n",
    "# Get the image features\n",
    "img = ef(image)\n",
    "\n",
    "# Predict the label\n",
    "pred = model.predict(img)\n",
    "pred_label = label[pred.argmax()]\n",
    "print(\"model prediction is\", pred_label)\n",
    "\n",
    "# Display the image\n",
    "# Remove batch and channel dimensions (reshape back to (48, 48))\n",
    "plt.imshow(img.reshape(48, 48), cmap='gray')\n",
    "plt.title(f'Prediction: {pred_label}')  # Turn off axis display for cleaner output\n",
    "plt.show()"
   ]
  },
  {
   "cell_type": "code",
   "execution_count": 47,
   "id": "32a171ee-88c2-4555-a1d0-0467b4f77be8",
   "metadata": {},
   "outputs": [
    {
     "name": "stdout",
     "output_type": "stream",
     "text": [
      "original image is of surprise\n",
      "1/1 [==============================] - 0s 32ms/step\n",
      "model prediction is surprise\n"
     ]
    },
    {
     "data": {
      "image/png": "[encoded data removed]",
      "text/plain": [
       "<Figure size 640x480 with 1 Axes>"
      ]
     },
     "metadata": {},
     "output_type": "display_data"
    }
   ],
   "source": [
    "image = 'images/train/surprise/15.jpg'\n",
    "print(\"original image is of surprise\")\n",
    "\n",
    "# Get the image features\n",
    "img = ef(image)\n",
    "\n",
    "# Predict the label\n",
    "pred = model.predict(img)\n",
    "pred_label = label[pred.argmax()]\n",
    "print(\"model prediction is\", pred_label)\n",
    "\n",
    "# Display the image\n",
    "# Remove batch and channel dimensions (reshape back to (48, 48))\n",
    "plt.imshow(img.reshape(48, 48), cmap='gray')\n",
    "plt.title(f'Prediction: {pred_label}')  # Turn off axis display for cleaner output\n",
    "plt.show()"
   ]
  },
  {
   "cell_type": "code",
   "execution_count": null,
   "id": "e7fe1013-2a77-4e13-bb5d-2f30be786296",
   "metadata": {},
   "outputs": [],
   "source": []
  }
 ],
 "metadata": {
  "kernelspec": {
   "display_name": "Python 3 (ipykernel)",
   "language": "python",
   "name": "python3"
  },
  "language_info": {
   "codemirror_mode": {
    "name": "ipython",
    "version": 3
   },
   "file_extension": ".py",
   "mimetype": "text/x-python",
   "name": "python",
   "nbconvert_exporter": "python",
   "pygments_lexer": "ipython3",
   "version": "3.10.13"
  }
 },
 "nbformat": 4,
 "nbformat_minor": 5
}
